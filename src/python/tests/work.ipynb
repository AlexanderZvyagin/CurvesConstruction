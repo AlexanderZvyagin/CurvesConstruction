{
 "cells": [
  {
   "cell_type": "markdown",
   "metadata": {},
   "source": [
    "### Initialization"
   ]
  },
  {
   "cell_type": "code",
   "execution_count": 1,
   "metadata": {},
   "outputs": [],
   "source": [
    "import sys, os\n",
    "sys.path.append(os.getenv('VIRTUAL_ENV')+'/lib/python3.8/site-packages/')\n",
    "import curves as c\n",
    "import matplotlib.pyplot as plt\n",
    "pc=1e-2\n",
    "year = 1\n",
    "month = year/12\n",
    "day = month/30\n",
    "week = 7*day"
   ]
  },
  {
   "cell_type": "code",
   "execution_count": 2,
   "metadata": {},
   "outputs": [],
   "source": [
    "def add_eur_libor_quotes_1(curve):\n",
    "    # https://www.global-rates.com/en/interest-rates/libor/libor.aspx\n",
    "    \n",
    "    # date: 06-25-2021\n",
    "    data = [\n",
    "        {'t0':0, 'length': 1*day,   'rate': -0.58471*pc},\n",
    "        {'t0':0, 'length': 1*week,  'rate': -0.57571*pc},\n",
    "        {'t0':0, 'length': 1*month, 'rate': -0.57786*pc},\n",
    "        {'t0':0, 'length': 2*month, 'rate': -0.55857*pc},\n",
    "        {'t0':0, 'length': 3*month, 'rate': -0.54614*pc},\n",
    "        {'t0':0, 'length': 6*month, 'rate': -0.52614*pc},\n",
    "        {'t0':0, 'length': 1*year,  'rate': -0.48357*pc},\n",
    "    ]\n",
    "    for v in data:\n",
    "        curve.Add(c.ForwardRateAgreement(v['t0'],v['length'],v['rate']))"
   ]
  },
  {
   "cell_type": "code",
   "execution_count": 3,
   "metadata": {},
   "outputs": [],
   "source": [
    "def add_eur_libor_quotes_2(curve):\n",
    "    # https://www.chathamfinancial.com/technology/european-market-rates\n",
    "    \n",
    "    # date: 06-25-2021\n",
    "    data = [\n",
    "        {'t0':0, 'length': 1*month, 'rate': -0.56200*pc},\n",
    "        {'t0':0, 'length': 3*month, 'rate': -0.53800*pc},\n",
    "        {'t0':0, 'length': 6*month, 'rate': -0.51300*pc},\n",
    "        {'t0':0, 'length': 1*year,  'rate': -0.47800*pc},\n",
    "    ]\n",
    "    for v in data:\n",
    "        curve.Add(c.ForwardRateAgreement(v['t0'],v['length'],v['rate']))"
   ]
  },
  {
   "cell_type": "code",
   "execution_count": 4,
   "metadata": {},
   "outputs": [],
   "source": [
    "def add_fras(curve):\n",
    "    libor_quotes = [\n",
    "        {'t0': 0, 'length': 1*month, 'rate':-0.553*pc},\n",
    "        {'t0': 0, 'length': 3*month, 'rate':-0.540*pc},\n",
    "        {'t0': 0, 'length': 6*month, 'rate':-0.508*pc},\n",
    "        {'t0': 0, 'length': 1*year,  'rate':-0.477*pc},\n",
    "    ]\n",
    "    for v in libor_quotes:\n",
    "        curve.Add(c.ForwardRateAgreement(v['t0'],v['length'],v['rate']))"
   ]
  },
  {
   "cell_type": "code",
   "execution_count": 5,
   "metadata": {},
   "outputs": [],
   "source": [
    "def add_swaps(curve,curve_float_leg=None):\n",
    "    if curve_float_leg is None:\n",
    "        curve_float_leg = curve\n",
    "    t0 = 0\n",
    "    dt = year*0.25\n",
    "    swaps = {\n",
    "         1*year:  0.19*pc,\n",
    "         2*year:  0.32*pc,\n",
    "         3*year:  0.55*pc,\n",
    "         5*year:  0.93*pc,\n",
    "         7*year:  1.20*pc,\n",
    "        10*year:  1.45*pc,\n",
    "        15*year:  1.53*pc,\n",
    "        30*year:  1.78*pc\n",
    "    }\n",
    "    for period,rate in swaps.items():\n",
    "\n",
    "        swap = c.Swap()\n",
    "\n",
    "        # fixed rate: payed quartely\n",
    "        swap.lfix = c.LegFixed(t0,dt,round(period/dt),rate)\n",
    "\n",
    "        # floating rate: payed quartely\n",
    "        dt = year*0.25\n",
    "\n",
    "        swap.lflt = c.LegFloat(t0,dt,round(period/dt),curve_float_leg)\n",
    "        curve.Add(swap)"
   ]
  },
  {
   "cell_type": "code",
   "execution_count": 6,
   "metadata": {},
   "outputs": [],
   "source": [
    "curve = c.YieldCurve()\n",
    "# https://www.global-rates.com/en/interest-rates/libor/libor.aspx\n",
    "\n",
    "# date: 06-25-2021\n",
    "data = [\n",
    "    {'t0':0, 'length': 1*day,   'rate': -0.58471*pc},\n",
    "    {'t0':0, 'length': 1*week,  'rate': -0.57571*pc},\n",
    "    {'t0':0, 'length': 1*month, 'rate': -0.57786*pc},\n",
    "    {'t0':0, 'length': 2*month, 'rate': -0.55857*pc},\n",
    "    {'t0':0, 'length': 3*month, 'rate': -0.54614*pc},\n",
    "    {'t0':0, 'length': 6*month, 'rate': -0.52614*pc},\n",
    "    {'t0':0, 'length': 1*year,  'rate': -0.48357*pc},\n",
    "]\n",
    "for v in data:\n",
    "    fra = c.ForwardRateAgreement(v['t0'],v['length'],v['rate'])\n",
    "    fra.AddToCurve(curve)"
   ]
  },
  {
   "cell_type": "code",
   "execution_count": 7,
   "metadata": {},
   "outputs": [
    {
     "data": {
      "image/png": "[encoded data removed]",
      "text/plain": [
       "<Figure size 432x288 with 1 Axes>"
      ]
     },
     "metadata": {
      "needs_background": "light"
     },
     "output_type": "display_data"
    }
   ],
   "source": [
    "points=100\n",
    "vx = [(curve.GetMaturity()*i)/(points-1) for i in range(points)]\n",
    "\n",
    "fig, ax = plt.subplots()\n",
    "ax.set_xlabel('Time, year')\n",
    "ax.set_ylabel('Rate/year, %')\n",
    "\n",
    "vy = [curve(t)/pc for t in vx]\n",
    "ax.plot(vx,vy)\n",
    "# ax.plot(vx,vy2,':',label='cspline')\n",
    "#ax.legend(loc='upper center', shadow=True)\n",
    "plt.title('LIBOR curve yields with different interpolations')\n",
    "plt.show()\n"
   ]
  },
  {
   "cell_type": "code",
   "execution_count": 8,
   "metadata": {},
   "outputs": [],
   "source": [
    "curve.Print()"
   ]
  },
  {
   "cell_type": "code",
   "execution_count": 9,
   "metadata": {},
   "outputs": [],
   "source": [
    "curve2 = c.YieldCurve()\n",
    "#add_eur_libor_quotes_1(curve2)\n",
    "for v in data:\n",
    "    fra = c.ForwardRateAgreement(v['t0'],v['length'],v['rate'])\n",
    "    curve2.Add(fra)\n",
    "#curve2.Build(c.Interpolator1D.Type.PiecewiseConstant)"
   ]
  },
  {
   "cell_type": "code",
   "execution_count": 10,
   "metadata": {},
   "outputs": [
    {
     "data": {
      "text/plain": [
       "YieldCurve"
      ]
     },
     "execution_count": 10,
     "metadata": {},
     "output_type": "execute_result"
    }
   ],
   "source": [
    "curve2.Build(c.Interpolator1D.Type.PiecewiseConstant)"
   ]
  },
  {
   "cell_type": "code",
   "execution_count": 11,
   "metadata": {},
   "outputs": [
    {
     "data": {
      "image/png": "[encoded data removed]",
      "text/plain": [
       "<Figure size 432x288 with 1 Axes>"
      ]
     },
     "metadata": {
      "needs_background": "light"
     },
     "output_type": "display_data"
    }
   ],
   "source": [
    "points=100\n",
    "vx = [(curve2.GetMaturity()*i)/(points-1) for i in range(points)]\n",
    "\n",
    "fig, ax = plt.subplots()\n",
    "ax.set_xlabel('Time, year')\n",
    "ax.set_ylabel('Rate/year, %')\n",
    "\n",
    "vy = [curve2(t)/pc for t in vx]\n",
    "ax.plot(vx,vy)\n",
    "# ax.plot(vx,vy2,':',label='cspline')\n",
    "#ax.legend(loc='upper center', shadow=True)\n",
    "plt.title('LIBOR curve yields with different interpolations')\n",
    "plt.show()\n"
   ]
  },
  {
   "cell_type": "code",
   "execution_count": null,
   "metadata": {},
   "outputs": [],
   "source": []
  },
  {
   "cell_type": "code",
   "execution_count": null,
   "metadata": {},
   "outputs": [],
   "source": []
  }
 ],
 "metadata": {
  "kernelspec": {
   "display_name": "Python 3",
   "language": "python",
   "name": "python3"
  },
  "language_info": {
   "codemirror_mode": {
    "name": "ipython",
    "version": 3
   },
   "file_extension": ".py",
   "mimetype": "text/x-python",
   "name": "python",
   "nbconvert_exporter": "python",
   "pygments_lexer": "ipython3",
   "version": "3.8.10"
  }
 },
 "nbformat": 4,
 "nbformat_minor": 4
}
